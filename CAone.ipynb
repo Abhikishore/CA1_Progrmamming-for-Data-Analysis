{
  "nbformat": 4,
  "nbformat_minor": 0,
  "metadata": {
    "colab": {
      "provenance": [],
      "collapsed_sections": []
    },
    "kernelspec": {
      "name": "python3",
      "display_name": "Python 3"
    },
    "language_info": {
      "name": "python"
    }
  },
  "cells": [
    {
      "cell_type": "code",
      "source": [
        "import requests\n",
        "import json\n",
        "import pandas as pd"
      ],
      "metadata": {
        "id": "yxzEmJi3Z5W6"
      },
      "execution_count": 1,
      "outputs": []
    },
    {
      "cell_type": "code",
      "source": [
        "url=\"https://www.booking.com/js_tracking?aid=304142&sid=3fb4f27be9d741187140ff234c8a2932&lang=en-us&ver=2&pid=a8276c919758030d&stype=1&ref_action=index&ete=&etg=&etcg=&ets=&etgwv=js_fps_avg_1m|45&m=UmFuZG9tSVYkc2RlIyh9YXvMHnHIHYDVJpa6mFNm2_I50t5UCA3ESZhJDqi1S4MBJ6MxBICAYAv6sv08hAmbh-rI__JPCjAcGsXUIHrRmO-RXyCf8M439lHS0UNR82NVy5mDhIlRYulHZMNGDYYUaJLoqxNGHzacGDUBsTlK-3m3PvUKDd6m4PttAZukxDGpiPJ2LPnFLJAdpBgUDBGQoYucdOEGL21B6hTm-9A5kK0AtvcJGG44A3tRlUSurkQuKipya7DHB_dGWwvBf2FihdaCq4ypviJROL-WO3PE9KmKCDCKB2L2mfbV6OyBEWIqslJdwmz7UpT3BeIvJlY0_DF1i8PhJdhi\""
      ],
      "metadata": {
        "id": "CzpfgIABaIzF"
      },
      "execution_count": 3,
      "outputs": []
    },
    {
      "cell_type": "code",
      "execution_count": 4,
      "metadata": {
        "id": "qmpTO3_SP4GE"
      },
      "outputs": [],
      "source": [
        "headers={'authority': 'www.booking.com',\n",
        "'method': 'GET',\n",
        "'path': '/js_tracking?aid=304142&sid=3fb4f27be9d741187140ff234c8a2932&lang=en-us&ver=2&pid=a8276c919758030d&stype=1&ref_action=index&ete=&etg=&etcg=&ets=&etgwv=js_fps_avg_1m|45&m=UmFuZG9tSVYkc2RlIyh9YXvMHnHIHYDVJpa6mFNm2_I50t5UCA3ESZhJDqi1S4MBJ6MxBICAYAv6sv08hAmbh-rI__JPCjAcGsXUIHrRmO-RXyCf8M439lHS0UNR82NVy5mDhIlRYulHZMNGDYYUaJLoqxNGHzacGDUBsTlK-3m3PvUKDd6m4PttAZukxDGpiPJ2LPnFLJAdpBgUDBGQoYucdOEGL21B6hTm-9A5kK0AtvcJGG44A3tRlUSurkQuKipya7DHB_dGWwvBf2FihdaCq4ypviJROL-WO3PE9KmKCDCKB2L2mfbV6OyBEWIqslJdwmz7UpT3BeIvJlY0_DF1i8PhJdhi',\n",
        "'scheme': 'https',\n",
        "'accept': '*/*',\n",
        "'accept-encoding': 'gzip, deflate, br',\n",
        "'accept-language': 'en-US,en;q=0.9',\n",
        "'cookie': 'px_init=0; cors_js=1; BJS=-; bkng_frontend_sese_exp=1; bkng_sso_session=e30; _pxhd=131HjgzjVC8Sl-Cw4KYId5mIC3WzNFiXLed8ZVEzdNvIDP1v4thhV481q-iqGJWRE54GGaFZh2r8s9lWCUtA5w%3D%3D%3AYAVVDGEBELqFyLZkGBtzp746AWRO6nEsYIUK1W0-DmQxFlr5lXNmjTLlZGHsuIpfU8qdf8UwDAUSSCqWYT0t-Eyb9dJFT79XOql6mGmcRsw%3D; pxcts=36901be6-61d5-11ed-91fa-4c73496c5847; _pxvid=363786b3-61d5-11ed-a7e4-52416f517678; _px3=c9e125660d9ef66da8ab5ab767d674d876e072055a94fb1bd3f26b5f8d54c498:NS9rH1Ucy5zb6peb1/DQAFKZKJFKi94XMBmm5TBP9ejRuwKsifU3KdiWWb1kV+ARSOkOJ+UEsAMRd1l8o5ktPw==:1000:aAfnWeEWBHlbGKRdLRMjhhFpUBTwwHIKfSD9c2tdRuhLSWykCIfNGNWKMVKDq8cwTwebZ0yjDDVn9hqxwjC1H3TjVBXeSjAZn5rKMOOtVD+rBt3CB7iQeLoPyuhis4ZDP7MfJdcwWlEgiWcZdDfh9mCkEFWAIZCUwNhfQwvgf+1tkdkJudVzR/JW1xWmsa/4gmeE+CdIkZr+5CwqGzxEuQ==; _pxde=0acdd5542e08c9c1ec6ce23a5040ee5f901a2926e0af922fe0b04a4dbffb5675:eyJ0aW1lc3RhbXAiOjE2NjgxODAzODk4NjQsImZfa2IiOjAsImlwY19pZCI6W119; g_state={\"i_p\":1668187591763,\"i_l\":1}; OptanonAlertBoxClosed=2022-11-11T15:26:33.130Z; _gid=GA1.2.1611353045.1668180393; _gat=1; _gcl_au=1.1.1988574109.1668180393; bkng_prue=1; bkng_sso_ses=eyJib29raW5nX2dsb2JhbCI6W3siYSI6MSwiaCI6IlJtVjE3cG0rbG9kMkpsM3JCOHVja1YrMXkyYm9QT2NKU3ZSVmp2aGRNdjQifV19; _ga_FPD6YLJCJ7=GS1.1.1668180393.1.0.1668180393.0.0.0; _ga=GA1.1.819984680.1668180393; OptanonConsent=isGpcEnabled=0&datestamp=Fri+Nov+11+2022+15%3A26%3A33+GMT%2B0000+(Greenwich+Mean+Time)&version=6.22.0&isIABGlobal=false&hosts=&consentId=26934625-582f-491a-97c5-fb9697bdf4c6&interactionCount=0&landingPath=NotLandingPage&groups=C0001%3A1%2CC0002%3A1%2CC0004%3A1&implicitConsentCountry=GDPR&implicitConsentDate=1668180389061&backfilled_at=1668180393442&backfilled_seed=1; _uetsid=39481b2061d511eda08f214bcd2115de; _uetvid=39485dd061d511eda15cc914f5f93f67; _scid=eaa7ade0-d837-43aa-b572-89c47f6ec568; _pin_unauth=dWlkPU5HVTVZekV4TmpBdFptRTVOUzAwTVdOakxUaG1PVGN0WlRoa1ltTm1aV1JpWkdabA; bkng=11UmFuZG9tSVYkc2RlIyh9Yaa29%2F3xUOLbca8KLfxLPefRORbqjsVEB%2F4R8i0NHGvzNlaL%2F3YhSs1ZicSbCCCkd0MmPCSxNIwt6GkK20YVnk8%2BLaaahUm%2BlR8lZhNBnOyZm1XtCN8OTLmWRqb41pZKhJSefRK%2BXWjfBC9mJEoHmgpwrJ8osE6lLT5nbE2GrQugyTy4azPzA8E%3D; lastSeen=1668180442152',\n",
        "'referer': 'https://www.booking.com/',\n",
        "'sec-ch-ua': '\"Microsoft Edge\";v=\"107\", \"Chromium\";v=\"107\", \"Not=A?Brand\";v=\"24\"',\n",
        "'sec-ch-ua-mobile': '?0',\n",
        "'sec-ch-ua-platform': '\"Windows\"',\n",
        "'sec-fetch-dest': 'empty',\n",
        "'sec-fetch-mode': 'cors',\n",
        "'sec-fetch-site': 'same-origin',\n",
        "'user-agent': 'Mozilla/5.0 (Windows NT 10.0; Win64; x64) AppleWebKit/537.36 (KHTML, like Gecko) Chrome/107.0.0.0 Safari/537.36',\n",
        "'x-booking-aid': '304142',\n",
        "'x-booking-client-info': 'dDfPWKHAdDECLSCNVAELXT,cCHObVZMYCAFFQZcNKNMC|1,cCHObVZMYCAFFQZcNKNMC|2,cCHObVZMYCAFFQZcNKNMC|4,cCHObVZMYCAFFQZcNKNMC|7,BHDTJdReQLOLOLOVZMYCVCMILRVVPKLZZOJNET|2,BHDTJdReQLOLOLOVZMYCVCMILRVVPKLZZOJNET|4,BHDTJdReQLOLOLOVZMYCVCMILRVVPKLZZOJNET|6,dLYdCeYBFVedKNKNKPMPSXPUEKdDXFZMIbdYeNYT|2,dLYdCeYBFVedKNKNKPMPSXPUEKdDXFZMIbdYeNYT|4,dLYdCeYBFVedKNKNKPMPSXPUEKdDXFZMIbdYeNYT|5,dLYdCeYBFVedKNKNKPMPSXPUEKdDXFZMIbdYeNYT|8,aaTBNZZJRLESPIDNJDPVBC|1,cCGaYSdMbYSfcdReLbFZVGAZbaTaTaET|1,cCGaYSdMbYSfcdReLbFZVGAZbaTaTaET|3,cCGaYSdMbYSfcdReLbFZVGAZbaTaTaET|6,cCHObVXAZQBJbKYbeQMIaSdFaLbFJdDBKFRURURHe|1,cCHObVXAZQBJbKYbeQMIaSdFaLbFJdDBKFRURURHe|7,cCHObVXAZQBJbKYbeQMIaSdFaLbFJdDBKFRURURHe|8',\n",
        "'x-booking-csrf': '4qFuYwAAAAA=zDLUePBL2f3_hoitnKTc8frE9wZ__5sBQAF-qI8li1sCNjHG72qw-0J9e3Tz6R6u1Kf5p7og4YkJYIrMXFexcV2Fwhy_IVxQPCv_xOh-p97VNSPHbkNniE_ho3b5lHnHC2vt332juaXt1RUU6F5AKWoSXUMNvq2Vb3qPHedIjmXqHXqKP52DAeeR440abYgjiL8g2kbJd6p634SR',\n",
        "'x-booking-info': '1588860,1607680,1615930,1615950,1616480,1617290,1618710,1624940,1625600,1625890,1626710,1628200,1628410,1628430,1629290,dDfPWKHAdDECLSCNVAELXT,1628430|1,1617290|3,1625890|2,1624940|2,1617290|1,cCHObVZMYCAFFQZcNKNMC|1,cCHObdRdJFKJIfHSdFaLbFDefEUPbaTaTaET|1,cCHObECVVDWBZEWaSdBEUJFWcbLWZHOfdKNKNKWe|1,cCHObdRdJFKJIfHSdFaLbFDefEUPbaTaTaET|2,cCHObECVVDWBZEWaSdBEUJFWcbLWZHOfdKNKNKWe|2,cCHObdRdJFKJIfHSdFaLbFDefEUPbaTaTaET|8,cCHObECVVDWBZEWaSdBEUJFWcbLWZHOfdKNKNKWe|8,INFddKNKNKPBDJJHMVGPLTLReASdVLT|2,cCHObTRVEFDEXNBBTZBYSGSYO|5,BHDTJdReQLOLOLOVZMYCVCMILRVVPKLZZOJNET|1,cCHObdRdJJXCcaWQOcNNOaUALOLOLMO|1,dLYdCeYBFVedKNKNKPMPSXPUEKdDXFZMIbdYeNYT|1,cCHObMKdFEVRVVPKLZZVCMISLUDZSedLOLOLMO|1,cCHObMKdFEVRVVPKLZZVCMISLUDZSedLOLOLMO|2,cCHObVZMYCAFFQZcNKNMC|2,cCHObVZMYCAFFQZcNKNMC|4,cCHObVZMYCAFFQZcNKNMC|7,BHDTJdReQLOLOLOVZMYCVCMILRVVPKLZZOJNET|2,BHDTJdReQLOLOLOVZMYCVCMILRVVPKLZZOJNET|4,BHDTJdReQLOLOLOVZMYCVCMILRVVPKLZZOJNET|6,dLYdCeYBFVedKNKNKPMPSXPUEKdDXFZMIbdYeNYT|2,dLYdCeYBFVedKNKNKPMPSXPUEKdDXFZMIbdYeNYT|4,dLYdCeYBFVedKNKNKPMPSXPUEKdDXFZMIbdYeNYT|5,dLYdCeYBFVedKNKNKPMPSXPUEKdDXFZMIbdYeNYT|8,aaTBNZZJRLESPIDNJDPVBC|1,cCGaYSdMbYSfcdReLbFZVGAZbaTaTaET|1,cCGaYSdMbYSfcdReLbFZVGAZbaTaTaET|3,cCGaYSdMbYSfcdReLbFZVGAZbaTaTaET|6,cCHObVXAZQBJbKYbeQMIaSdFaLbFJdDBKFRURURHe|1,cCHObVXAZQBJbKYbeQMIaSdFaLbFJdDBKFRURURHe|7,cCHObVXAZQBJbKYbeQMIaSdFaLbFJdDBKFRURURHe|8',\n",
        "'x-booking-label': 'gen173nr-1FCAEoggI46AdIM1gEaGmIAQGYATG4ARfIAQzYAQHoAQH4AQKIAgGoAgO4AqLTuZsGwAIB0gIkYWQzMTJkNTItY2M1YS00OGE5LWJhZTYtMzljZmJiZThlNTlh2AIF4AIB',\n",
        "'x-booking-language-code': 'en-us',\n",
        "'x-booking-pageview-id': 'a8276c919758030d',\n",
        "'x-booking-session-id': '3fb4f27be9d741187140ff234c8a2932',\n",
        "'x-booking-sitetype-id': '1',\n",
        "'x-partner-channel-id': '3',\n",
        "'x-requested-with': 'XMLHttpRequest',}"
      ]
    },
    {
      "cell_type": "code",
      "source": [
        "data=\"aid=304142&sid=3fb4f27be9d741187140ff234c8a2932&lang=en-us&ver=2&pid=a8276c919758030d&stype=1&ref_action=index&ete=&etg=&etcg=&ets=&etgwv=js_fps_avg_1m|45&m=UmFuZG9tSVYkc2RlIyh9YXvMHnHIHYDVJpa6mFNm2_I50t5UCA3ESZhJDqi1S4MBJ6MxBICAYAv6sv08hAmbh-rI__JPCjAcGsXUIHrRmO-RXyCf8M439lHS0UNR82NVy5mDhIlRYulHZMNGDYYUaJLoqxNGHzacGDUBsTlK-3m3PvUKDd6m4PttAZukxDGpiPJ2LPnFLJAdpBgUDBGQoYucdOEGL21B6hTm-9A5kK0AtvcJGG44A3tRlUSurkQuKipya7DHB_dGWwvBf2FihdaCq4ypviJROL-WO3PE9KmKCDCKB2L2mfbV6OyBEWIqslJdwmz7UpT3BeIvJlY0_DF1i8PhJdhi\""
      ],
      "metadata": {
        "id": "Pgekw8npZy8L"
      },
      "execution_count": 5,
      "outputs": []
    },
    {
      "cell_type": "code",
      "source": [
        "resp=requests.get(url,data=data, headers=headers)"
      ],
      "metadata": {
        "id": "oTtFdykPak6t"
      },
      "execution_count": 6,
      "outputs": []
    },
    {
      "cell_type": "code",
      "source": [
        "d=json.loads(resp.content)"
      ],
      "metadata": {
        "id": "6eJQCSuAfpCJ"
      },
      "execution_count": null,
      "outputs": []
    }
  ]
}